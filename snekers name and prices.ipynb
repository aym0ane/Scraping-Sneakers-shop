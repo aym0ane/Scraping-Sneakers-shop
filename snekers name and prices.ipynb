{
 "cells": [
  {
   "cell_type": "markdown",
   "id": "0d71a4d3-afbb-4135-b440-1f90bf3f06bd",
   "metadata": {
    "tags": []
   },
   "source": [
    " ### web scraping up to  17 pages from Sneakers online shop "
   ]
  },
  {
   "cell_type": "code",
   "execution_count": 1,
   "id": "5688e852-bf89-4f20-b33e-5d2debc8e767",
   "metadata": {},
   "outputs": [],
   "source": [
    "import pandas as pd\n",
    "import requests \n",
    "from bs4 import BeautifulSoup\n"
   ]
  },
  {
   "cell_type": "code",
   "execution_count": 2,
   "id": "f2ecf651-933f-4e2c-94ef-967e06bdc4f7",
   "metadata": {},
   "outputs": [],
   "source": [
    "baseurl = 'https://www.noirfonce.eu/'\n"
   ]
  },
  {
   "cell_type": "code",
   "execution_count": 3,
   "id": "5f9cdff7-48ff-478a-a503-3afa733c26a1",
   "metadata": {},
   "outputs": [],
   "source": [
    "productlinks =[]"
   ]
  },
  {
   "cell_type": "code",
   "execution_count": 4,
   "id": "e077de67-ef58-4ebe-a3a0-738674f43c73",
   "metadata": {},
   "outputs": [
    {
     "data": {
      "text/plain": [
       "745"
      ]
     },
     "execution_count": 4,
     "metadata": {},
     "output_type": "execute_result"
    }
   ],
   "source": [
    "for x in range ( 1 , 18 ) :\n",
    "    r = requests.get(f'https://www.noirfonce.eu/collections/men?page={x}')\n",
    "    soup = BeautifulSoup(r.content , 'lxml' ) \n",
    "    productlist = soup.find_all('div' , class_='grid-product__content')\n",
    "    for item in productlist : \n",
    "        for link in item.find_all('a' , href=True):\n",
    "            productlinks.append( baseurl + link['href'])\n",
    "            \n",
    "len(productlinks)"
   ]
  },
  {
   "cell_type": "code",
   "execution_count": 13,
   "id": "f1f1a166-f280-427a-a308-5abc7befdc3f",
   "metadata": {},
   "outputs": [
    {
     "name": "stdout",
     "output_type": "stream",
     "text": [
      "150.00           New Balance 20002R\n"
     ]
    }
   ],
   "source": [
    "r = requests.get('https://www.noirfonce.eu/collections/men/products/new-balance-20002r-m2002rwm')\n",
    "soup = BeautifulSoup(r.content ,'lxml')\n",
    "name = soup.find('h1' , class_='h2 product-single__title').text.strip()\n",
    "price = soup.find('span' , class_='money').text\n",
    "price = price.replace('€','')\n",
    "print(price ,'         ' ,  name ) "
   ]
  },
  {
   "cell_type": "code",
   "execution_count": 17,
   "id": "f0dc7976-c968-418e-9557-40c354307a15",
   "metadata": {},
   "outputs": [],
   "source": [
    "products = [] \n",
    "for link in  productlinks : \n",
    "    r = requests.get(link )\n",
    "    soup = BeautifulSoup(r.content ,'lxml')\n",
    "    name = soup.find('h1' , class_='h2 product-single__title').text.strip()\n",
    "    price = soup.find('span' , class_='money').text\n",
    "    price = price.replace('€','')\n",
    "    products.append({'name': name , 'price in  €' : price })\n",
    "    \n",
    "\n",
    " "
   ]
  },
  {
   "cell_type": "code",
   "execution_count": 18,
   "id": "b9401033-ca4e-44cc-b49a-da6aaf545ef4",
   "metadata": {},
   "outputs": [
    {
     "data": {
      "text/html": [
       "<div>\n",
       "<style scoped>\n",
       "    .dataframe tbody tr th:only-of-type {\n",
       "        vertical-align: middle;\n",
       "    }\n",
       "\n",
       "    .dataframe tbody tr th {\n",
       "        vertical-align: top;\n",
       "    }\n",
       "\n",
       "    .dataframe thead th {\n",
       "        text-align: right;\n",
       "    }\n",
       "</style>\n",
       "<table border=\"1\" class=\"dataframe\">\n",
       "  <thead>\n",
       "    <tr style=\"text-align: right;\">\n",
       "      <th></th>\n",
       "      <th>name</th>\n",
       "      <th>price in  €</th>\n",
       "    </tr>\n",
       "  </thead>\n",
       "  <tbody>\n",
       "    <tr>\n",
       "      <th>0</th>\n",
       "      <td>Saucony Endorphin Speed 3 Northern Soul</td>\n",
       "      <td>170.00</td>\n",
       "    </tr>\n",
       "    <tr>\n",
       "      <th>1</th>\n",
       "      <td>Le Coq Sportif LCS T1000</td>\n",
       "      <td>110.00</td>\n",
       "    </tr>\n",
       "    <tr>\n",
       "      <th>2</th>\n",
       "      <td>Nike Air Force 1 '07</td>\n",
       "      <td>150.00</td>\n",
       "    </tr>\n",
       "    <tr>\n",
       "      <th>3</th>\n",
       "      <td>New Balance 550</td>\n",
       "      <td>160.00</td>\n",
       "    </tr>\n",
       "    <tr>\n",
       "      <th>4</th>\n",
       "      <td>New Balance 550</td>\n",
       "      <td>160.00</td>\n",
       "    </tr>\n",
       "    <tr>\n",
       "      <th>...</th>\n",
       "      <td>...</td>\n",
       "      <td>...</td>\n",
       "    </tr>\n",
       "    <tr>\n",
       "      <th>740</th>\n",
       "      <td>Nike Air Force 1 Mid '07 LX</td>\n",
       "      <td>140.00</td>\n",
       "    </tr>\n",
       "    <tr>\n",
       "      <th>741</th>\n",
       "      <td>Nike ACG Lowcate</td>\n",
       "      <td>120.00</td>\n",
       "    </tr>\n",
       "    <tr>\n",
       "      <th>742</th>\n",
       "      <td>Nike Blazer Mid '77 Vintage</td>\n",
       "      <td>110.00</td>\n",
       "    </tr>\n",
       "    <tr>\n",
       "      <th>743</th>\n",
       "      <td>Nike Air More Uptempo '96</td>\n",
       "      <td>180.00</td>\n",
       "    </tr>\n",
       "    <tr>\n",
       "      <th>744</th>\n",
       "      <td>Adidas Oznova</td>\n",
       "      <td>130.00</td>\n",
       "    </tr>\n",
       "  </tbody>\n",
       "</table>\n",
       "<p>745 rows × 2 columns</p>\n",
       "</div>"
      ],
      "text/plain": [
       "                                        name price in  €\n",
       "0    Saucony Endorphin Speed 3 Northern Soul      170.00\n",
       "1                   Le Coq Sportif LCS T1000      110.00\n",
       "2                       Nike Air Force 1 '07      150.00\n",
       "3                            New Balance 550      160.00\n",
       "4                            New Balance 550      160.00\n",
       "..                                       ...         ...\n",
       "740              Nike Air Force 1 Mid '07 LX      140.00\n",
       "741                         Nike ACG Lowcate      120.00\n",
       "742              Nike Blazer Mid '77 Vintage      110.00\n",
       "743                Nike Air More Uptempo '96      180.00\n",
       "744                            Adidas Oznova      130.00\n",
       "\n",
       "[745 rows x 2 columns]"
      ]
     },
     "execution_count": 18,
     "metadata": {},
     "output_type": "execute_result"
    }
   ],
   "source": [
    "df = pd.DataFrame(products)\n",
    "df\n"
   ]
  },
  {
   "cell_type": "code",
   "execution_count": 19,
   "id": "524e4674-fd37-46dd-a37b-84712661557a",
   "metadata": {},
   "outputs": [],
   "source": [
    "df.to_csv('Sneakers_name_and_price1.csv' , index=False  )"
   ]
  },
  {
   "cell_type": "code",
   "execution_count": null,
   "id": "e5214360-b363-4007-a0e2-6259c5a55388",
   "metadata": {},
   "outputs": [],
   "source": []
  }
 ],
 "metadata": {
  "kernelspec": {
   "display_name": "Python 3 (ipykernel)",
   "language": "python",
   "name": "python3"
  },
  "language_info": {
   "codemirror_mode": {
    "name": "ipython",
    "version": 3
   },
   "file_extension": ".py",
   "mimetype": "text/x-python",
   "name": "python",
   "nbconvert_exporter": "python",
   "pygments_lexer": "ipython3",
   "version": "3.9.2"
  }
 },
 "nbformat": 4,
 "nbformat_minor": 5
}
